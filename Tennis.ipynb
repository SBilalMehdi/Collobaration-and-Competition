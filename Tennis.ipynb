{
 "cells": [
  {
   "cell_type": "markdown",
   "metadata": {},
   "source": [
    "# Continuous Control\n",
    "\n",
    "---\n",
    "\n",
    "In this notebook, you will learn how to use the Unity ML-Agents environment for the second project of the [Deep Reinforcement Learning Nanodegree](https://www.udacity.com/course/deep-reinforcement-learning-nanodegree--nd893) program.\n",
    "\n",
    "### 1. Start the Environment\n",
    "\n",
    "We begin by importing the necessary packages.  If the code cell below returns an error, please revisit the project instructions to double-check that you have installed [Unity ML-Agents](https://github.com/Unity-Technologies/ml-agents/blob/master/docs/Installation.md) and [NumPy](http://www.numpy.org/)."
   ]
  },
  {
   "cell_type": "code",
   "execution_count": 1,
   "metadata": {
    "collapsed": true
   },
   "outputs": [],
   "source": [
    "from unityagents import UnityEnvironment\n",
    "import numpy as np"
   ]
  },
  {
   "cell_type": "markdown",
   "metadata": {},
   "source": [
    "Next, we will start the environment!  **_Before running the code cell below_**, change the `file_name` parameter to match the location of the Unity environment that you downloaded.\n",
    "\n",
    "- **Mac**: `\"path/to/Reacher.app\"`\n",
    "- **Windows** (x86): `\"path/to/Reacher_Windows_x86/Reacher.exe\"`\n",
    "- **Windows** (x86_64): `\"path/to/Reacher_Windows_x86_64/Reacher.exe\"`\n",
    "- **Linux** (x86): `\"path/to/Reacher_Linux/Reacher.x86\"`\n",
    "- **Linux** (x86_64): `\"path/to/Reacher_Linux/Reacher.x86_64\"`\n",
    "- **Linux** (x86, headless): `\"path/to/Reacher_Linux_NoVis/Reacher.x86\"`\n",
    "- **Linux** (x86_64, headless): `\"path/to/Reacher_Linux_NoVis/Reacher.x86_64\"`\n",
    "\n",
    "For instance, if you are using a Mac, then you downloaded `Reacher.app`.  If this file is in the same folder as the notebook, then the line below should appear as follows:\n",
    "```\n",
    "env = UnityEnvironment(file_name=\"Reacher.app\")\n",
    "```"
   ]
  },
  {
   "cell_type": "code",
   "execution_count": 2,
   "metadata": {},
   "outputs": [
    {
     "name": "stderr",
     "output_type": "stream",
     "text": [
      "INFO:unityagents:\n",
      "'Academy' started successfully!\n",
      "Unity Academy name: Academy\n",
      "        Number of Brains: 1\n",
      "        Number of External Brains : 1\n",
      "        Lesson number : 0\n",
      "        Reset Parameters :\n",
      "\t\t\n",
      "Unity brain name: TennisBrain\n",
      "        Number of Visual Observations (per agent): 0\n",
      "        Vector Observation space type: continuous\n",
      "        Vector Observation space size (per agent): 8\n",
      "        Number of stacked Vector Observation: 3\n",
      "        Vector Action space type: continuous\n",
      "        Vector Action space size (per agent): 2\n",
      "        Vector Action descriptions: , \n"
     ]
    }
   ],
   "source": [
    "env = UnityEnvironment(file_name=\"Tennis_Linux/Tennis.x86_64\")"
   ]
  },
  {
   "cell_type": "markdown",
   "metadata": {},
   "source": [
    "Environments contain **_brains_** which are responsible for deciding the actions of their associated agents. Here we check for the first brain available, and set it as the default brain we will be controlling from Python."
   ]
  },
  {
   "cell_type": "code",
   "execution_count": 3,
   "metadata": {
    "collapsed": true
   },
   "outputs": [],
   "source": [
    "# get the default brain\n",
    "brain_name = env.brain_names[0]\n",
    "brain = env.brains[brain_name]"
   ]
  },
  {
   "cell_type": "markdown",
   "metadata": {},
   "source": [
    "### 2. Examine the State and Action Spaces\n",
    "\n",
    "In this environment, a double-jointed arm can move to target locations. A reward of `+0.1` is provided for each step that the agent's hand is in the goal location. Thus, the goal of your agent is to maintain its position at the target location for as many time steps as possible.\n",
    "\n",
    "The observation space consists of `33` variables corresponding to position, rotation, velocity, and angular velocities of the arm.  Each action is a vector with four numbers, corresponding to torque applicable to two joints.  Every entry in the action vector must be a number between `-1` and `1`.\n",
    "\n",
    "Run the code cell below to print some information about the environment."
   ]
  },
  {
   "cell_type": "code",
   "execution_count": 4,
   "metadata": {},
   "outputs": [
    {
     "name": "stdout",
     "output_type": "stream",
     "text": [
      "Number of agents: 2\n",
      "Size of each action: 2\n",
      "There are 2 agents. Each observes a state with length: 24\n",
      "The state for the first agent looks like: [ 0.          0.          0.          0.          0.          0.\n",
      "  0.          0.          0.          0.          0.          0.\n",
      "  0.          0.          0.          0.         -6.65278625 -1.5\n",
      " -0.          0.          6.83172083  6.         -0.          0.        ]\n"
     ]
    }
   ],
   "source": [
    "# reset the environment\n",
    "env_info = env.reset(train_mode=True)[brain_name]\n",
    "\n",
    "# number of agents\n",
    "num_agents = len(env_info.agents)\n",
    "print('Number of agents:', num_agents)\n",
    "\n",
    "# size of each action\n",
    "action_size = brain.vector_action_space_size\n",
    "print('Size of each action:', action_size)\n",
    "\n",
    "# examine the state space \n",
    "states = env_info.vector_observations\n",
    "state_size = states.shape[1]\n",
    "print('There are {} agents. Each observes a state with length: {}'.format(states.shape[0], state_size))\n",
    "print('The state for the first agent looks like:', states[0])"
   ]
  },
  {
   "cell_type": "markdown",
   "metadata": {},
   "source": [
    "### 4. It's Your Turn!\n",
    "\n",
    "Now it's your turn to train your own agent to solve the environment!  When training the environment, set `train_mode=True`, so that the line for resetting the environment looks like the following:\n",
    "```python\n",
    "env_info = env.reset(train_mode=True)[brain_name]\n",
    "```"
   ]
  },
  {
   "cell_type": "code",
   "execution_count": 5,
   "metadata": {
    "collapsed": true
   },
   "outputs": [],
   "source": [
    "import torch\n",
    "import collections\n",
    "from ddpg_agent import Agent"
   ]
  },
  {
   "cell_type": "code",
   "execution_count": 6,
   "metadata": {
    "collapsed": true
   },
   "outputs": [],
   "source": [
    "agent = Agent(state_size, action_size, num_agents, 0)"
   ]
  },
  {
   "cell_type": "code",
   "execution_count": 8,
   "metadata": {},
   "outputs": [
    {
     "name": "stdout",
     "output_type": "stream",
     "text": [
      "Starting training\n",
      "Episode: 100  Avg score: 0.00\n",
      "Episode: 200  Avg score: 0.00\n",
      "Episode: 300  Avg score: 0.00\n",
      "Episode: 400  Avg score: 0.00\n",
      "Episode: 500  Avg score: 0.02\n",
      "Episode: 600  Avg score: 0.02\n",
      "Episode: 700  Avg score: 0.03\n",
      "Episode: 800  Avg score: 0.09\n",
      "Episode: 900  Avg score: 0.11\n",
      "Episode: 1000  Avg score: 0.11\n",
      "Episode: 1100  Avg score: 0.19\n",
      "Episode: 1200  Avg score: 0.30\n",
      "Episode: 1300  Avg score: 0.25\n",
      "Episode: 1400  Avg score: 0.23\n",
      "Episode: 1500  Avg score: 0.22\n",
      "Episode: 1600  Avg score: 0.34\n",
      "Episode: 1700  Avg score: 0.34\n",
      "Episode: 1800  Avg score: 0.36\n",
      "Episode: 1900  Avg score: 0.37\n",
      "Episode: 2000  Avg score: 0.46\n",
      "Episode: 2100  Avg score: 0.38\n",
      "Episode: 2200  Avg score: 0.33\n",
      "Episode: 2300  Avg score: 0.40\n",
      "Episode: 2400  Avg score: 0.44\n",
      "Episode: 2500  Avg score: 0.41\n",
      "Episode: 2600  Avg score: 0.41\n",
      "Episode: 2700  Avg score: 0.40\n",
      "Episode: 2800  Avg score: 0.42\n",
      "Episode: 2900  Avg score: 0.50\n",
      "\n",
      "Environment solved!\tAverage Score in last 100 episodes: 0.5039\n"
     ]
    }
   ],
   "source": [
    "def ddpg_train(max_episodes=1000, eps_initial=1.0, eps_end=0.05, eps_decay=0.99):\n",
    "       \n",
    "    scores_history = []                                           # for plotting graph\n",
    "    scores_window = collections.deque(maxlen=100)                 # for keeping last 100 scores\n",
    "    eps = eps_initial                                             # start of eps noise factor\n",
    "    training_complete = False\n",
    "    episode = 1\n",
    "    \n",
    "    while episode < max_episodes + 1:\n",
    "        \n",
    "        agent.reset()                                             # reset the agent for noise\n",
    "        env_info = env.reset(train_mode=True)[brain_name]         # reset the environment\n",
    "        states = env_info.vector_observations                     # get the current state (for each agent)\n",
    "        ep_scores = np.zeros(num_agents)                          # initialize the score (for each agent)\n",
    "        step = 0\n",
    "\n",
    "        episode_running = True                                    # flag for breaking the loop\n",
    "        while episode_running:\n",
    "            step = step + 1\n",
    "            actions = agent.act(states, 1.0)                      # select an action (for each agent)\n",
    "            env_info = env.step(actions)[brain_name]              # send all actions to tne environment\n",
    "            next_states = env_info.vector_observations            # get next state (for each agent)\n",
    "            rewards = env_info.rewards                            # get reward (for each agent)\n",
    "            dones = env_info.local_done                           # see if episode finished\n",
    "            ep_scores += env_info.rewards                         # update the score (for each agent)\n",
    "            \n",
    "            if len(scores_history) > 0:\n",
    "                if scores_history[-1] > 35 and (not training_complete):\n",
    "                    print(\"\\rTraining complete since the score is already quite high\")\n",
    "                    training_complete = True\n",
    "\n",
    "            if not training_complete:\n",
    "                agent.step(states,actions,rewards,next_states,dones)  # agent to update with env info\n",
    "            \n",
    "            states = next_states                                  # roll over states to next time step\n",
    "            if np.any(dones):                                     # exit loop if ANY episode finished\n",
    "                episode_running = False\n",
    "                \n",
    "            #print(\"\\rstep: \", step, end=\"\")\n",
    "\n",
    "        if agent.training_started == True:        \n",
    "            scores_history.append(np.max(ep_scores))             # append episodic avg score to history\n",
    "            scores_window.append(np.max(ep_scores))\n",
    "\n",
    "            if len(scores_history)%100 == 0:\n",
    "                print('\\rEpisode: {}  Avg score: {:.2f}'.format(episode, np.mean(scores_history[-100:])))\n",
    "\n",
    "            if len(scores_window) >=100 and np.mean(scores_window) >= .5:\n",
    "                dicts_to_save = {'model_actor': agent.actor_local.state_dict(), \n",
    "                                 'model_critic': agent.critic_local.state_dict()}\n",
    "                torch.save(dicts_to_save, 'agent.pt')\n",
    "                print('\\nEnvironment solved!\\tAverage Score in last 100 episodes: {:.4f}'.format(np.mean(scores_window)))\n",
    "\n",
    "                break\n",
    "\n",
    "            episode += 1\n",
    "            eps = max(eps*eps_decay,eps_end)\n",
    "        \n",
    "\n",
    "    env.close()\n",
    "        \n",
    "    return scores_history\n",
    "\n",
    "scores_history = ddpg_train(5000)"
   ]
  },
  {
   "cell_type": "code",
   "execution_count": 14,
   "metadata": {},
   "outputs": [
    {
     "data": {
      "image/png": "[encoded data removed]",
      "text/plain": [
       "<Figure size 432x288 with 1 Axes>"
      ]
     },
     "metadata": {
      "needs_background": "light"
     },
     "output_type": "display_data"
    }
   ],
   "source": [
    "import matplotlib.pyplot as plt\n",
    "\n",
    "averaged_score_history = []\n",
    "for i in range(0, len(scores_history) - 100):\n",
    "    averaged_score_history.append(np.mean(scores_history[i:i+100]))\n",
    "plt.plot(np.arange(len(averaged_score_history)), averaged_score_history)\n",
    "plt.ylabel('Average Score over the next 100 episodes')\n",
    "plt.xlabel('Episode #')\n",
    "plt.show()"
   ]
  },
  {
   "cell_type": "code",
   "execution_count": null,
   "metadata": {
    "collapsed": true
   },
   "outputs": [],
   "source": []
  }
 ],
 "metadata": {
  "kernelspec": {
   "display_name": "Python 3",
   "language": "python",
   "name": "python3"
  },
  "language_info": {
   "codemirror_mode": {
    "name": "ipython",
    "version": 3
   },
   "file_extension": ".py",
   "mimetype": "text/x-python",
   "name": "python",
   "nbconvert_exporter": "python",
   "pygments_lexer": "ipython3",
   "version": "3.6.1"
  }
 },
 "nbformat": 4,
 "nbformat_minor": 2
}
